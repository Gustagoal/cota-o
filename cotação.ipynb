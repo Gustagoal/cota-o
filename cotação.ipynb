{
  "nbformat": 4,
  "nbformat_minor": 0,
  "metadata": {
    "colab": {
      "provenance": [],
      "authorship_tag": "ABX9TyNHMVIOIybEd9I1hBnn9Aft",
      "include_colab_link": true
    },
    "kernelspec": {
      "name": "python3",
      "display_name": "Python 3"
    },
    "language_info": {
      "name": "python"
    }
  },
  "cells": [
    {
      "cell_type": "markdown",
      "metadata": {
        "id": "view-in-github",
        "colab_type": "text"
      },
      "source": [
        "<a href=\"https://colab.research.google.com/github/Gustagoal/cota-o/blob/main/cota%C3%A7%C3%A3o.ipynb\" target=\"_parent\"><img src=\"https://colab.research.google.com/assets/colab-badge.svg\" alt=\"Open In Colab\"/></a>"
      ]
    },
    {
      "cell_type": "code",
      "execution_count": null,
      "metadata": {
        "id": "9Ug0l9detz5t"
      },
      "outputs": [],
      "source": [
        "# importação das bibliotecas para utilizar\n",
        "import pandas as pd\n",
        "import requests\n",
        "# Importante dar a conexão com o site [200]\n",
        "site = requests.get(r\"https://economia.awesomeapi.com.br/last/USD-BRL,EUR-BRL,BTC-BRL\") # Conectando com a API no site \"api awesome\"\n",
        "cotacoes = site.json() # Utilizando Json para pegar as informações no site\n",
        "tabela = pd.DataFrame(cotacoes) # Cria uma tabela\n",
        "head = tabela.head(4) # Pega as 4 primeiras linhas\n",
        "head.to_excel(\"Moeda.xlsx\") # Cria um arquivo em excel que foi nomeado de \"Moeda.xlsx\""
      ]
    }
  ]
}